{
 "cells": [
  {
   "cell_type": "markdown",
   "metadata": {},
   "source": [
    "deterministic action"
   ]
  },
  {
   "cell_type": "code",
   "execution_count": null,
   "metadata": {
    "collapsed": true
   },
   "outputs": [],
   "source": [
    "import gym\n",
    "import universe"
   ]
  },
  {
   "cell_type": "code",
   "execution_count": null,
   "metadata": {
    "collapsed": true
   },
   "outputs": [],
   "source": [
    "import math\n",
    "\n",
    "import time\n",
    "import random\n",
    "import pickle\n",
    "\n",
    "from collections import deque\n",
    "\n",
    "%matplotlib notebook\n",
    "import matplotlib as mpl\n",
    "plt = mpl.pyplot\n",
    "# mpl.pylab.rcParams['figure.figsize'] = (12, 9)\n",
    "\n",
    "import numpy as np\n",
    "import torch as tch\n",
    "F = tch.nn.functional"
   ]
  },
  {
   "cell_type": "code",
   "execution_count": null,
   "metadata": {
    "collapsed": true,
    "scrolled": true
   },
   "outputs": [],
   "source": [
    "# pytorch auxiliar functions\n",
    "def np2var(input):\n",
    "    output = tch.autograd.Variable(tch.from_numpy(input))\n",
    "    if tch.cuda.is_available():\n",
    "        output = output.cuda()\n",
    "    return output\n",
    "\n",
    "tanh2sigmoid = lambda x: (x + 1) / 2\n",
    "\n",
    "def postprocess(tch_img):\n",
    "    return (tch_img * 255).byte().data.cpu().numpy().squeeze()\n",
    "\n",
    "# screen slicing00\n",
    "top = 86\n",
    "left = 20 + 100\n",
    "height = 300\n",
    "width = 500 - 200\n",
    "gamescreen_slice = (slice(top,  top + height), slice(left, left + width))\n",
    "game_center = (top + height // 2, left + width // 2) # y, x\n",
    "game_center = game_center[::-1]\n",
    "\n",
    "# average pooling for downscaling\n",
    "s = downscale_size = 2\n",
    "pool2d_downscale = tch.nn.AvgPool2d((s, s), stride=(s, s))\n",
    "downscale_n = 1\n",
    "downscale = downscale_size ** downscale_n\n",
    "dummy_img = np.zeros((height // downscale, width // downscale, 1))"
   ]
  },
  {
   "cell_type": "code",
   "execution_count": null,
   "metadata": {
    "scrolled": false
   },
   "outputs": [],
   "source": [
    "# visualization\n",
    "fig, axes = mpl.pyplot.subplots(1, 3)\n",
    "\n",
    "# initialization of visualization\n",
    "imgs = [ax.imshow(dummy_img.squeeze(), interpolation='none', vmin=0, vmax=255, cmap='gray') for ax in axes]\n",
    "\n",
    "fig_loss, ax_loss = plt.subplots()"
   ]
  },
  {
   "cell_type": "code",
   "execution_count": null,
   "metadata": {},
   "outputs": [],
   "source": [
    "# prevent cluttering\n",
    "import sys\n",
    "nb_stdout = sys.stdout\n",
    "sys.stdout = open('/dev/stdout', 'w')"
   ]
  },
  {
   "cell_type": "code",
   "execution_count": null,
   "metadata": {
    "scrolled": true
   },
   "outputs": [],
   "source": [
    "env = gym.make('internet.SlitherIO-v0')\n",
    "env.configure(remotes=1)  # automatically creates a local docker container\n",
    "\n",
    "# sys.stdout = nb_stdout"
   ]
  },
  {
   "cell_type": "code",
   "execution_count": null,
   "metadata": {
    "scrolled": true
   },
   "outputs": [],
   "source": [
    "observation_n = env.reset()\n",
    "\n",
    "total_ae_loss = 0\n",
    "total_pred_loss = 0\n",
    "\n",
    "train_steps = 0\n",
    "\n",
    "hidden = None\n",
    "\n",
    "action_n = [[('KeyEvent', 'ArrowLeft', random.choice([True, False])),\n",
    "             ('KeyEvent', 'ArrowRight', random.choice([True, False])),\n",
    "            ] for ob in observation_n]\n",
    "\n",
    "episode = []\n",
    "episode_nr = 397\n",
    "\n",
    "while episode_nr < 1000:\n",
    "\n",
    "    # your agent here\n",
    "    observation_n, reward_n, done_n, info = env.step(action_n)\n",
    "    \n",
    "    # every now and then\n",
    "    if random.random() < 0.01:\n",
    "        # randomly choose action\n",
    "        action_n = [[('KeyEvent', 'ArrowLeft', random.choice([True, False])),\n",
    "                     ('KeyEvent', 'ArrowRight', random.choice([True, False])),\n",
    "                    ] for ob in observation_n]\n",
    "\n",
    "    if observation_n[0] is not None:\n",
    "        # preprocessing\n",
    "        gamescreen = observation_n[0]['vision'][gamescreen_slice]\n",
    "        gamescreen = gamescreen.transpose(2, 0, 1)\n",
    "        gamescreen = np2var(gamescreen).float() / 255\n",
    "        gamescreen = gamescreen.unsqueeze(0)\n",
    "        # downscaling\n",
    "        gamescreen = pool2d_downscale(gamescreen)\n",
    "        gamescreen = gamescreen.max(dim=1, keepdim=True)[0]\n",
    "            \n",
    "        \n",
    "\n",
    "        #displaying\n",
    "        gamescreen = postprocess(gamescreen)\n",
    "#             decoded_gamescreen = postprocess(decoded_gamescreen)\n",
    "#             decoded_pred_gamescreen = postprocess(decoded_pred_gamescreen)\n",
    "        imgs[0].set_data(gamescreen)\n",
    "#             imgs[1].set_data(decoded_gamescreen)\n",
    "#             imgs[2].set_data(decoded_pred_gamescreen)\n",
    "        fig.canvas.draw()\n",
    "    \n",
    "        episode.append([gamescreen, reward_n])\n",
    "\n",
    "    if np.any(done_n):\n",
    "        if len(episode) > 32:\n",
    "            pickle.dump(episode, open('./game_dataset/'+str(episode_nr)+'.pickle', 'wb'))\n",
    "            episode = []\n",
    "            episode_nr += 1\n",
    "        "
   ]
  },
  {
   "cell_type": "markdown",
   "metadata": {
    "collapsed": true
   },
   "source": [
    "decoder(encoder(train_batch + 1)).max()"
   ]
  },
  {
   "cell_type": "code",
   "execution_count": null,
   "metadata": {
    "collapsed": true
   },
   "outputs": [],
   "source": []
  }
 ],
 "metadata": {
  "anaconda-cloud": {},
  "kernelspec": {
   "display_name": "Python [default]",
   "language": "python",
   "name": "python3"
  },
  "language_info": {
   "codemirror_mode": {
    "name": "ipython",
    "version": 3
   },
   "file_extension": ".py",
   "mimetype": "text/x-python",
   "name": "python",
   "nbconvert_exporter": "python",
   "pygments_lexer": "ipython3",
   "version": "3.5.2"
  }
 },
 "nbformat": 4,
 "nbformat_minor": 1
}
